{
 "cells": [
  {
   "cell_type": "code",
   "execution_count": 1,
   "id": "initial_id",
   "metadata": {
    "collapsed": true
   },
   "outputs": [
    {
     "name": "stdout",
     "output_type": "stream",
     "text": [
      "hello world\n"
     ]
    }
   ],
   "source": [
    "print(\"hello world\")\n"
   ]
  },
  {
   "cell_type": "code",
   "execution_count": 2,
   "id": "0e0c7ba3",
   "metadata": {},
   "outputs": [
    {
     "data": {
      "text/plain": [
       "['Black', 'Green', 'Oolong', 'White']"
      ]
     },
     "execution_count": 2,
     "metadata": {},
     "output_type": "execute_result"
    }
   ],
   "source": [
    "tea_varities = [\"Black\", \"Green\", \"Oolong\", \"White\"]\n",
    "tea_varities"
   ]
  },
  {
   "cell_type": "code",
   "execution_count": 3,
   "id": "9ae0e743",
   "metadata": {},
   "outputs": [
    {
     "name": "stdout",
     "output_type": "stream",
     "text": [
      "['Black', 'Green', 'Oolong', 'White']\n"
     ]
    }
   ],
   "source": [
    "print(tea_varities)"
   ]
  },
  {
   "cell_type": "code",
   "execution_count": 4,
   "id": "0009d24b",
   "metadata": {},
   "outputs": [
    {
     "name": "stdout",
     "output_type": "stream",
     "text": [
      "Green\n"
     ]
    }
   ],
   "source": [
    "print(tea_varities[1])"
   ]
  },
  {
   "cell_type": "code",
   "execution_count": 5,
   "id": "dca91b24",
   "metadata": {},
   "outputs": [
    {
     "name": "stdout",
     "output_type": "stream",
     "text": [
      "White\n"
     ]
    }
   ],
   "source": [
    "print(tea_varities[-1])"
   ]
  },
  {
   "cell_type": "code",
   "execution_count": 6,
   "id": "8f5d2002",
   "metadata": {},
   "outputs": [
    {
     "name": "stdout",
     "output_type": "stream",
     "text": [
      "['Green', 'Oolong']\n"
     ]
    }
   ],
   "source": [
    "print(tea_varities[1:3])\n"
   ]
  },
  {
   "cell_type": "code",
   "execution_count": 7,
   "id": "cffebd2e",
   "metadata": {},
   "outputs": [
    {
     "name": "stdout",
     "output_type": "stream",
     "text": [
      "['Black', 'Green']\n"
     ]
    }
   ],
   "source": [
    "print(tea_varities[:2])"
   ]
  },
  {
   "cell_type": "code",
   "execution_count": 8,
   "id": "29546dda",
   "metadata": {},
   "outputs": [
    {
     "name": "stdout",
     "output_type": "stream",
     "text": [
      "['Oolong', 'White']\n"
     ]
    }
   ],
   "source": [
    "print(tea_varities[2:])"
   ]
  },
  {
   "cell_type": "code",
   "execution_count": 9,
   "id": "8c038005",
   "metadata": {},
   "outputs": [
    {
     "name": "stdout",
     "output_type": "stream",
     "text": [
      "['Black', 'Green', 'Oolong', 'Herbal']\n"
     ]
    }
   ],
   "source": [
    "tea_varities[3] = \"Herbal\"\n",
    "print(tea_varities)"
   ]
  },
  {
   "cell_type": "code",
   "execution_count": 10,
   "id": "f292b9a0",
   "metadata": {},
   "outputs": [
    {
     "name": "stdout",
     "output_type": "stream",
     "text": [
      "['Green']\n"
     ]
    }
   ],
   "source": [
    "print(tea_varities[1:2])"
   ]
  },
  {
   "cell_type": "code",
   "execution_count": 11,
   "id": "7be0455a",
   "metadata": {},
   "outputs": [],
   "source": [
    "tea_varities[1:2] = \"Lemon\""
   ]
  },
  {
   "cell_type": "code",
   "execution_count": 12,
   "id": "119eb06e",
   "metadata": {},
   "outputs": [
    {
     "data": {
      "text/plain": [
       "['Black', 'L', 'e', 'm', 'o', 'n', 'Oolong', 'Herbal']"
      ]
     },
     "execution_count": 12,
     "metadata": {},
     "output_type": "execute_result"
    }
   ],
   "source": [
    "tea_varities"
   ]
  },
  {
   "cell_type": "code",
   "execution_count": 13,
   "id": "90c0b26f",
   "metadata": {},
   "outputs": [
    {
     "data": {
      "text/plain": [
       "['L']"
      ]
     },
     "execution_count": 13,
     "metadata": {},
     "output_type": "execute_result"
    }
   ],
   "source": [
    "tea_varities[1:2]"
   ]
  },
  {
   "cell_type": "code",
   "execution_count": 14,
   "id": "d6ddb601",
   "metadata": {},
   "outputs": [
    {
     "data": {
      "text/plain": [
       "['L']"
      ]
     },
     "execution_count": 14,
     "metadata": {},
     "output_type": "execute_result"
    }
   ],
   "source": [
    "tea_varities[1:2]"
   ]
  },
  {
   "cell_type": "code",
   "execution_count": 15,
   "id": "4fe603a3",
   "metadata": {},
   "outputs": [],
   "source": [
    "tea_varities[1:2] = [\"Lemon\"]"
   ]
  },
  {
   "cell_type": "code",
   "execution_count": 16,
   "id": "57ae7ff9",
   "metadata": {},
   "outputs": [
    {
     "data": {
      "text/plain": [
       "['Black', 'Lemon', 'e', 'm', 'o', 'n', 'Oolong', 'Herbal']"
      ]
     },
     "execution_count": 16,
     "metadata": {},
     "output_type": "execute_result"
    }
   ],
   "source": [
    "tea_varities"
   ]
  },
  {
   "cell_type": "code",
   "execution_count": 17,
   "id": "998ce242",
   "metadata": {},
   "outputs": [
    {
     "data": {
      "text/plain": [
       "['Lemon', 'e']"
      ]
     },
     "execution_count": 17,
     "metadata": {},
     "output_type": "execute_result"
    }
   ],
   "source": [
    "tea_varities[1:3]"
   ]
  },
  {
   "cell_type": "code",
   "execution_count": 18,
   "id": "0c21acae",
   "metadata": {},
   "outputs": [],
   "source": "tea_varities[1:3] = [\"green\", \"masala\"]"
  },
  {
   "cell_type": "code",
   "execution_count": 19,
   "id": "c691139d",
   "metadata": {},
   "outputs": [
    {
     "data": {
      "text/plain": [
       "['Black', 'green', 'masala', 'm', 'o', 'n', 'Oolong', 'Herbal']"
      ]
     },
     "execution_count": 19,
     "metadata": {},
     "output_type": "execute_result"
    }
   ],
   "source": [
    "tea_varities"
   ]
  },
  {
   "cell_type": "code",
   "execution_count": 20,
   "id": "dfe2cdfa",
   "metadata": {},
   "outputs": [
    {
     "data": {
      "text/plain": [
       "['Black', 'green', 'masala', 'm', 'o', 'n', 'Oolong', 'Herbal']"
      ]
     },
     "execution_count": 20,
     "metadata": {},
     "output_type": "execute_result"
    }
   ],
   "source": [
    "tea_varities"
   ]
  },
  {
   "cell_type": "code",
   "execution_count": 21,
   "id": "aaae315b",
   "metadata": {},
   "outputs": [
    {
     "data": {
      "text/plain": [
       "[]"
      ]
     },
     "execution_count": 21,
     "metadata": {},
     "output_type": "execute_result"
    }
   ],
   "source": [
    "tea_varities[1:1]"
   ]
  },
  {
   "cell_type": "code",
   "execution_count": 22,
   "id": "06c530f0",
   "metadata": {},
   "outputs": [],
   "source": "tea_varities[1:1] = [\"test\", \"test\"]\n"
  },
  {
   "cell_type": "code",
   "execution_count": 23,
   "id": "daaa4c1b",
   "metadata": {},
   "outputs": [
    {
     "data": {
      "text/plain": [
       "['Black', 'test', 'test', 'green', 'masala', 'm', 'o', 'n', 'Oolong', 'Herbal']"
      ]
     },
     "execution_count": 23,
     "metadata": {},
     "output_type": "execute_result"
    }
   ],
   "source": [
    "tea_varities"
   ]
  },
  {
   "cell_type": "code",
   "execution_count": 24,
   "id": "16e752ce",
   "metadata": {},
   "outputs": [
    {
     "data": {
      "text/plain": [
       "['test']"
      ]
     },
     "execution_count": 24,
     "metadata": {},
     "output_type": "execute_result"
    }
   ],
   "source": [
    "tea_varities[1:2]"
   ]
  },
  {
   "cell_type": "code",
   "execution_count": 25,
   "id": "17a24729",
   "metadata": {},
   "outputs": [
    {
     "data": {
      "text/plain": [
       "['test', 'test']"
      ]
     },
     "execution_count": 25,
     "metadata": {},
     "output_type": "execute_result"
    }
   ],
   "source": [
    "tea_varities[1:3]"
   ]
  },
  {
   "cell_type": "code",
   "execution_count": 26,
   "id": "2859f6bb",
   "metadata": {},
   "outputs": [],
   "source": [
    "tea_varities[1:3] = []"
   ]
  },
  {
   "cell_type": "code",
   "execution_count": 27,
   "id": "0e979d7d",
   "metadata": {},
   "outputs": [
    {
     "data": {
      "text/plain": [
       "['Black', 'green', 'masala', 'm', 'o', 'n', 'Oolong', 'Herbal']"
      ]
     },
     "execution_count": 27,
     "metadata": {},
     "output_type": "execute_result"
    }
   ],
   "source": [
    "tea_varities"
   ]
  },
  {
   "cell_type": "code",
   "execution_count": 28,
   "id": "d55c9b01",
   "metadata": {},
   "outputs": [
    {
     "data": {
      "text/plain": [
       "['Black', 'green', 'masala', 'm', 'o', 'n', 'Oolong', 'Herbal']"
      ]
     },
     "execution_count": 28,
     "metadata": {},
     "output_type": "execute_result"
    }
   ],
   "source": [
    "tea_varities"
   ]
  },
  {
   "cell_type": "code",
   "execution_count": 29,
   "id": "4ea9feb1",
   "metadata": {},
   "outputs": [
    {
     "name": "stdout",
     "output_type": "stream",
     "text": [
      "Black\n",
      "green\n",
      "masala\n",
      "m\n",
      "o\n",
      "n\n",
      "Oolong\n",
      "Herbal\n"
     ]
    }
   ],
   "source": [
    "for tea in tea_varities:\n",
    "    print(tea)\n"
   ]
  },
  {
   "cell_type": "code",
   "execution_count": 30,
   "id": "74445f3c",
   "metadata": {},
   "outputs": [
    {
     "name": "stdout",
     "output_type": "stream",
     "text": [
      "Black-green-masala-m-o-n-Oolong-Herbal-"
     ]
    }
   ],
   "source": [
    "for tea in tea_varities:\n",
    "    print(tea, end=\"-\")"
   ]
  },
  {
   "cell_type": "code",
   "execution_count": 31,
   "id": "aae631ca",
   "metadata": {},
   "outputs": [
    {
     "data": {
      "text/plain": [
       "['Black', 'Green', 'Oolong', 'White']"
      ]
     },
     "execution_count": 31,
     "metadata": {},
     "output_type": "execute_result"
    }
   ],
   "source": [
    "tea_varities = [\"Black\", \"Green\", \"Oolong\", \"White\"]\n",
    "tea_varities"
   ]
  },
  {
   "cell_type": "code",
   "execution_count": 32,
   "id": "88e47dec",
   "metadata": {},
   "outputs": [
    {
     "name": "stdout",
     "output_type": "stream",
     "text": [
      "I have Oolong tea\n"
     ]
    }
   ],
   "source": [
    "if \"Oolong\" in tea_varities:\n",
    "    print(\"I have Oolong tea\")"
   ]
  },
  {
   "cell_type": "code",
   "execution_count": 33,
   "id": "4275fa7e",
   "metadata": {},
   "outputs": [
    {
     "name": "stdout",
     "output_type": "stream",
     "text": [
      "['Black', 'Green', 'Oolong', 'White', 'Masala']\n"
     ]
    }
   ],
   "source": [
    "tea_varities.append(\"Masala\")\n",
    "print(tea_varities)"
   ]
  },
  {
   "cell_type": "code",
   "execution_count": 34,
   "id": "09de21f9",
   "metadata": {},
   "outputs": [
    {
     "data": {
      "text/plain": [
       "'Oolong'"
      ]
     },
     "execution_count": 34,
     "metadata": {},
     "output_type": "execute_result"
    }
   ],
   "source": [
    "tea_varities.pop(2)"
   ]
  },
  {
   "cell_type": "code",
   "execution_count": 35,
   "id": "8d884c00",
   "metadata": {},
   "outputs": [
    {
     "data": {
      "text/plain": [
       "['Black', 'Green', 'White', 'Masala']"
      ]
     },
     "execution_count": 35,
     "metadata": {},
     "output_type": "execute_result"
    }
   ],
   "source": [
    "tea_varities"
   ]
  },
  {
   "cell_type": "code",
   "execution_count": 36,
   "id": "4013040a",
   "metadata": {},
   "outputs": [
    {
     "data": {
      "text/plain": [
       "['Black', 'Green', 'White', 'Masala']"
      ]
     },
     "execution_count": 36,
     "metadata": {},
     "output_type": "execute_result"
    }
   ],
   "source": [
    "tea_varities"
   ]
  },
  {
   "cell_type": "code",
   "execution_count": 39,
   "id": "f3dd7abb",
   "metadata": {},
   "outputs": [
    {
     "name": "stdout",
     "output_type": "stream",
     "text": [
      "I have Oolong\n"
     ]
    }
   ],
   "source": [
    "if \"Oolong\" in tea_varities:\n",
    "    print(\"I have Oolong\")"
   ]
  },
  {
   "cell_type": "code",
   "execution_count": 38,
   "id": "e3029515",
   "metadata": {},
   "outputs": [],
   "source": [
    "tea_varities.append(\"Oolong\")"
   ]
  },
  {
   "cell_type": "code",
   "execution_count": 40,
   "id": "2cdb0e47",
   "metadata": {},
   "outputs": [],
   "source": [
    "tea_varities.remove(\"Green\")"
   ]
  },
  {
   "cell_type": "code",
   "execution_count": 41,
   "id": "5597831e",
   "metadata": {},
   "outputs": [
    {
     "data": {
      "text/plain": [
       "['Black', 'White', 'Masala', 'Oolong']"
      ]
     },
     "execution_count": 41,
     "metadata": {},
     "output_type": "execute_result"
    }
   ],
   "source": [
    "tea_varities"
   ]
  },
  {
   "cell_type": "code",
   "execution_count": 42,
   "id": "e85e6b66",
   "metadata": {},
   "outputs": [],
   "source": "tea_varities.insert(1, \"Green\")"
  },
  {
   "cell_type": "code",
   "execution_count": 43,
   "id": "3a18cf9c",
   "metadata": {},
   "outputs": [
    {
     "name": "stdout",
     "output_type": "stream",
     "text": [
      "['Black', 'Green', 'White', 'Masala', 'Oolong']\n"
     ]
    }
   ],
   "source": [
    "print(tea_varities)"
   ]
  },
  {
   "cell_type": "code",
   "execution_count": 44,
   "id": "2b608fe6",
   "metadata": {},
   "outputs": [],
   "source": [
    "tea_varities_copy = tea_varities.copy()"
   ]
  },
  {
   "cell_type": "code",
   "execution_count": 45,
   "id": "16afb161",
   "metadata": {},
   "outputs": [],
   "source": [
    "tea_varities_copy.append(\"Lemon\")"
   ]
  },
  {
   "cell_type": "code",
   "execution_count": 46,
   "id": "f35f4440",
   "metadata": {},
   "outputs": [
    {
     "name": "stdout",
     "output_type": "stream",
     "text": [
      "['Black', 'Green', 'White', 'Masala', 'Oolong', 'Lemon']\n"
     ]
    }
   ],
   "source": [
    "print(tea_varities_copy)"
   ]
  },
  {
   "cell_type": "code",
   "execution_count": 50,
   "id": "c5a1c937",
   "metadata": {},
   "outputs": [],
   "source": "squared_nums = [x ** 2 for x in range(10)]\n"
  },
  {
   "cell_type": "code",
   "execution_count": 47,
   "id": "67ab9a58",
   "metadata": {},
   "outputs": [
    {
     "name": "stdout",
     "output_type": "stream",
     "text": [
      "range(0, 10)\n"
     ]
    }
   ],
   "source": [
    "print(range(10))"
   ]
  },
  {
   "cell_type": "code",
   "execution_count": 48,
   "id": "4b211713",
   "metadata": {},
   "outputs": [],
   "source": [
    "y = range(10)"
   ]
  },
  {
   "cell_type": "code",
   "execution_count": 49,
   "id": "47b61754",
   "metadata": {},
   "outputs": [
    {
     "name": "stdout",
     "output_type": "stream",
     "text": [
      "range(0, 10)\n"
     ]
    }
   ],
   "source": [
    "print(y)"
   ]
  },
  {
   "cell_type": "code",
   "execution_count": 51,
   "id": "51eb4e80",
   "metadata": {},
   "outputs": [
    {
     "data": {
      "text/plain": [
       "[0, 1, 4, 9, 16, 25, 36, 49, 64, 81]"
      ]
     },
     "execution_count": 51,
     "metadata": {},
     "output_type": "execute_result"
    }
   ],
   "source": [
    "squared_nums"
   ]
  },
  {
   "cell_type": "code",
   "execution_count": 52,
   "id": "8af5dc5d",
   "metadata": {},
   "outputs": [
    {
     "name": "stdout",
     "output_type": "stream",
     "text": [
      "[0, 1, 8, 27, 64]\n"
     ]
    }
   ],
   "source": [
    "cube_num = [y ** 3 for y in range(5)]\n",
    "print(cube_num)"
   ]
  },
  {
   "cell_type": "code",
   "execution_count": null,
   "id": "4b3c5666",
   "metadata": {},
   "outputs": [],
   "source": []
  },
  {
   "cell_type": "markdown",
   "id": "77f89157",
   "metadata": {},
   "source": [
    "Dictionary"
   ]
  },
  {
   "cell_type": "code",
   "execution_count": 53,
   "id": "0b8f95cb",
   "metadata": {},
   "outputs": [],
   "source": [
    "chai_types = {\n",
    "    \"Masala Chai\": \"Spicy\",\n",
    "    \"Ginger\": \"Zesty\",\n",
    "    \"Green\": \"Mild\"\n",
    "}"
   ]
  },
  {
   "cell_type": "code",
   "execution_count": 54,
   "id": "a8d6d072",
   "metadata": {},
   "outputs": [
    {
     "data": {
      "text/plain": [
       "{'Masala Chai': 'Spicy', 'Ginger': 'Zesty', 'Green': 'Mild'}"
      ]
     },
     "execution_count": 54,
     "metadata": {},
     "output_type": "execute_result"
    }
   ],
   "source": [
    "chai_types"
   ]
  },
  {
   "cell_type": "code",
   "execution_count": 56,
   "id": "900e4703",
   "metadata": {},
   "outputs": [
    {
     "data": {
      "text/plain": [
       "'Spicy'"
      ]
     },
     "execution_count": 56,
     "metadata": {},
     "output_type": "execute_result"
    }
   ],
   "source": [
    "chai_types[\"Masala Chai\"]"
   ]
  },
  {
   "cell_type": "code",
   "execution_count": 57,
   "id": "f5a871ee",
   "metadata": {},
   "outputs": [],
   "source": [
    "chai_types.get(\"Masala\")"
   ]
  },
  {
   "cell_type": "code",
   "execution_count": 58,
   "id": "74378179",
   "metadata": {},
   "outputs": [],
   "source": [
    "chai_types[\"Green\"] = \"Fresh\""
   ]
  },
  {
   "cell_type": "code",
   "execution_count": 59,
   "id": "a6d61cd3",
   "metadata": {},
   "outputs": [
    {
     "name": "stdout",
     "output_type": "stream",
     "text": [
      "Masala Chai\n",
      "Ginger\n",
      "Green\n"
     ]
    }
   ],
   "source": [
    "for chai in chai_types:\n",
    "    print(chai)"
   ]
  },
  {
   "cell_type": "code",
   "execution_count": 60,
   "id": "e3a2e805",
   "metadata": {},
   "outputs": [
    {
     "name": "stdout",
     "output_type": "stream",
     "text": [
      "Masala Chai Spicy\n",
      "Ginger Zesty\n",
      "Green Fresh\n"
     ]
    }
   ],
   "source": [
    "for chai in chai_types:\n",
    "    print(chai, chai_types[chai])"
   ]
  },
  {
   "cell_type": "code",
   "execution_count": 62,
   "id": "887d692f",
   "metadata": {},
   "outputs": [
    {
     "name": "stdout",
     "output_type": "stream",
     "text": [
      "Masala Chai Spicy\n",
      "Ginger Zesty\n",
      "Green Fresh\n"
     ]
    }
   ],
   "source": [
    "for key, values in chai_types.items():\n",
    "    print(key, values)"
   ]
  },
  {
   "cell_type": "code",
   "execution_count": 64,
   "id": "56244829",
   "metadata": {},
   "outputs": [
    {
     "name": "stdout",
     "output_type": "stream",
     "text": [
      "dict_items([('Masala Chai', 'Spicy'), ('Ginger', 'Zesty'), ('Green', 'Fresh')])\n"
     ]
    }
   ],
   "source": [
    "print(chai_types.items())"
   ]
  },
  {
   "cell_type": "code",
   "execution_count": 67,
   "id": "463b560f",
   "metadata": {},
   "outputs": [
    {
     "name": "stdout",
     "output_type": "stream",
     "text": [
      "I have masala chai\n"
     ]
    }
   ],
   "source": [
    "if \"Masala Chai\" in chai_types:\n",
    "    print(\"I have masala chai\")"
   ]
  },
  {
   "cell_type": "code",
   "execution_count": 68,
   "id": "64787822",
   "metadata": {},
   "outputs": [
    {
     "name": "stdout",
     "output_type": "stream",
     "text": [
      "3\n"
     ]
    }
   ],
   "source": [
    "print(len(chai_types))"
   ]
  },
  {
   "cell_type": "code",
   "execution_count": 71,
   "id": "54b6f7d2",
   "metadata": {},
   "outputs": [
    {
     "data": {
      "text/plain": [
       "{'Masala Chai': 'Spicy', 'Ginger': 'Zesty', 'Green': 'Fresh'}"
      ]
     },
     "execution_count": 71,
     "metadata": {},
     "output_type": "execute_result"
    }
   ],
   "source": [
    "chai_types"
   ]
  },
  {
   "cell_type": "code",
   "execution_count": 72,
   "id": "9b2cf37f",
   "metadata": {},
   "outputs": [],
   "source": [
    "chai_types['Earl Grey'] = 'Citrus'"
   ]
  },
  {
   "cell_type": "code",
   "execution_count": 73,
   "id": "708ce956",
   "metadata": {},
   "outputs": [
    {
     "data": {
      "text/plain": [
       "{'Masala Chai': 'Spicy',\n",
       " 'Ginger': 'Zesty',\n",
       " 'Green': 'Fresh',\n",
       " 'Earl Grey': 'Citrus'}"
      ]
     },
     "execution_count": 73,
     "metadata": {},
     "output_type": "execute_result"
    }
   ],
   "source": [
    "chai_types"
   ]
  },
  {
   "cell_type": "code",
   "execution_count": 74,
   "id": "de885e31",
   "metadata": {},
   "outputs": [
    {
     "data": {
      "text/plain": [
       "'Zesty'"
      ]
     },
     "execution_count": 74,
     "metadata": {},
     "output_type": "execute_result"
    }
   ],
   "source": [
    "chai_types.pop(\"Ginger\")"
   ]
  },
  {
   "cell_type": "code",
   "execution_count": 75,
   "id": "4369cd23",
   "metadata": {},
   "outputs": [
    {
     "data": {
      "text/plain": [
       "{'Masala Chai': 'Spicy', 'Green': 'Fresh', 'Earl Grey': 'Citrus'}"
      ]
     },
     "execution_count": 75,
     "metadata": {},
     "output_type": "execute_result"
    }
   ],
   "source": [
    "chai_types"
   ]
  },
  {
   "cell_type": "code",
   "execution_count": 76,
   "id": "ae3e4733",
   "metadata": {},
   "outputs": [
    {
     "data": {
      "text/plain": [
       "('Earl Grey', 'Citrus')"
      ]
     },
     "execution_count": 76,
     "metadata": {},
     "output_type": "execute_result"
    }
   ],
   "source": [
    "chai_types.popitem()"
   ]
  },
  {
   "cell_type": "code",
   "execution_count": 77,
   "id": "d49a5a9b",
   "metadata": {},
   "outputs": [
    {
     "data": {
      "text/plain": [
       "{'Masala Chai': 'Spicy', 'Green': 'Fresh'}"
      ]
     },
     "execution_count": 77,
     "metadata": {},
     "output_type": "execute_result"
    }
   ],
   "source": [
    "chai_types"
   ]
  },
  {
   "cell_type": "code",
   "execution_count": 78,
   "id": "d31e5ea3",
   "metadata": {},
   "outputs": [],
   "source": [
    "del chai_types[\"Green\"]"
   ]
  },
  {
   "cell_type": "code",
   "execution_count": 79,
   "id": "b65c4f17",
   "metadata": {},
   "outputs": [
    {
     "data": {
      "text/plain": [
       "{'Masala Chai': 'Spicy'}"
      ]
     },
     "execution_count": 79,
     "metadata": {},
     "output_type": "execute_result"
    }
   ],
   "source": [
    "chai_types"
   ]
  },
  {
   "cell_type": "code",
   "execution_count": 80,
   "id": "8109ed4c",
   "metadata": {},
   "outputs": [],
   "source": [
    "chai_types_copy = chai_types.copy()"
   ]
  },
  {
   "cell_type": "code",
   "execution_count": 81,
   "id": "dc5cd1a7",
   "metadata": {},
   "outputs": [],
   "source": [
    "tea_shop = {\n",
    "    \"chai\": {\"Masala\": \"Spicy\", \"Ginger\": \"Zesty\", \"Tea\": {\"Green\": \"Mild\", 'Black': 'strong'}}\n",
    "}"
   ]
  },
  {
   "cell_type": "code",
   "execution_count": 82,
   "id": "10f03692",
   "metadata": {},
   "outputs": [
    {
     "data": {
      "text/plain": [
       "{'chai': {'Masala': 'Spicy',\n",
       "  'Ginger': 'Zesty',\n",
       "  'Tea': {'Green': 'Mild', 'Black': 'strong'}}}"
      ]
     },
     "execution_count": 82,
     "metadata": {},
     "output_type": "execute_result"
    }
   ],
   "source": [
    "tea_shop"
   ]
  },
  {
   "cell_type": "code",
   "execution_count": 83,
   "id": "837d6bc9",
   "metadata": {},
   "outputs": [
    {
     "data": {
      "text/plain": [
       "{'Masala': 'Spicy',\n",
       " 'Ginger': 'Zesty',\n",
       " 'Tea': {'Green': 'Mild', 'Black': 'strong'}}"
      ]
     },
     "execution_count": 83,
     "metadata": {},
     "output_type": "execute_result"
    }
   ],
   "source": "tea_shop[\"chai\"]"
  },
  {
   "cell_type": "code",
   "execution_count": 84,
   "id": "408a1e7d",
   "metadata": {},
   "outputs": [
    {
     "data": {
      "text/plain": [
       "'Zesty'"
      ]
     },
     "execution_count": 84,
     "metadata": {},
     "output_type": "execute_result"
    }
   ],
   "source": "tea_shop[\"chai\"][\"Ginger\"]"
  },
  {
   "cell_type": "code",
   "execution_count": 85,
   "id": "a6ece2f4",
   "metadata": {},
   "outputs": [],
   "source": "squared_nums = {x: x ** 2 for x in range(6)}"
  },
  {
   "cell_type": "code",
   "execution_count": 86,
   "id": "837e943c",
   "metadata": {},
   "outputs": [
    {
     "data": {
      "text/plain": [
       "{0: 0, 1: 1, 2: 4, 3: 9, 4: 16, 5: 25}"
      ]
     },
     "execution_count": 86,
     "metadata": {},
     "output_type": "execute_result"
    }
   ],
   "source": [
    "squared_nums"
   ]
  },
  {
   "cell_type": "code",
   "execution_count": 87,
   "id": "66293cbe",
   "metadata": {},
   "outputs": [
    {
     "name": "stdout",
     "output_type": "stream",
     "text": [
      "{0: 0, 1: 1, 2: 8, 3: 27, 4: 64, 5: 125, 6: 216, 7: 343}\n"
     ]
    }
   ],
   "source": [
    "squared_nums2 = {x: x ** 3 for x in range(8)}\n",
    "print(squared_nums2)"
   ]
  },
  {
   "cell_type": "code",
   "execution_count": 88,
   "id": "5c5fbbbe",
   "metadata": {},
   "outputs": [],
   "source": [
    "squared_nums.clear()"
   ]
  },
  {
   "cell_type": "code",
   "execution_count": 89,
   "id": "dfcab65f",
   "metadata": {},
   "outputs": [
    {
     "data": {
      "text/plain": [
       "{}"
      ]
     },
     "execution_count": 89,
     "metadata": {},
     "output_type": "execute_result"
    }
   ],
   "source": [
    "squared_nums"
   ]
  },
  {
   "cell_type": "code",
   "execution_count": 90,
   "id": "b47f95c4",
   "metadata": {},
   "outputs": [],
   "source": "keys = [\"Masala\", \"Ginger\", \"Lemon\"]"
  },
  {
   "cell_type": "code",
   "execution_count": 91,
   "id": "52c06e49",
   "metadata": {},
   "outputs": [
    {
     "data": {
      "text/plain": [
       "['Masala', 'Ginger', 'Lemon']"
      ]
     },
     "execution_count": 91,
     "metadata": {},
     "output_type": "execute_result"
    }
   ],
   "source": [
    "keys"
   ]
  },
  {
   "cell_type": "code",
   "execution_count": 92,
   "id": "882b910a",
   "metadata": {},
   "outputs": [],
   "source": [
    "default_value = \"Delicious\""
   ]
  },
  {
   "cell_type": "code",
   "execution_count": 93,
   "id": "6e449839",
   "metadata": {},
   "outputs": [],
   "source": [
    "new_dict = dict.fromkeys(keys, default_value)"
   ]
  },
  {
   "cell_type": "code",
   "execution_count": 94,
   "id": "e697b597",
   "metadata": {},
   "outputs": [
    {
     "name": "stdout",
     "output_type": "stream",
     "text": [
      "{'Masala': 'Delicious', 'Ginger': 'Delicious', 'Lemon': 'Delicious'}\n"
     ]
    }
   ],
   "source": [
    "print(new_dict)"
   ]
  },
  {
   "cell_type": "code",
   "execution_count": null,
   "id": "3f22ed3f",
   "metadata": {},
   "outputs": [],
   "source": []
  },
  {
   "cell_type": "markdown",
   "id": "e024ed58",
   "metadata": {},
   "source": [
    "Tuples"
   ]
  },
  {
   "cell_type": "markdown",
   "id": "f5276155",
   "metadata": {},
   "source": [
    "[] for list\n",
    "{} for dictionary\n",
    "() for tuple"
   ]
  },
  {
   "cell_type": "code",
   "execution_count": 95,
   "id": "e4a1fd73",
   "metadata": {},
   "outputs": [
    {
     "data": {
      "text/plain": [
       "('Black', 'Green', 'Oolong')"
      ]
     },
     "execution_count": 95,
     "metadata": {},
     "output_type": "execute_result"
    }
   ],
   "source": [
    "tea_types = (\"Black\", \"Green\", \"Oolong\")\n",
    "tea_types"
   ]
  },
  {
   "cell_type": "code",
   "execution_count": 96,
   "id": "08de8e7b",
   "metadata": {},
   "outputs": [
    {
     "data": {
      "text/plain": [
       "'Black'"
      ]
     },
     "execution_count": 96,
     "metadata": {},
     "output_type": "execute_result"
    }
   ],
   "source": [
    "tea_types[0]"
   ]
  },
  {
   "cell_type": "code",
   "execution_count": 97,
   "id": "b44f63c9",
   "metadata": {},
   "outputs": [
    {
     "data": {
      "text/plain": [
       "'Oolong'"
      ]
     },
     "execution_count": 97,
     "metadata": {},
     "output_type": "execute_result"
    }
   ],
   "source": [
    "tea_types[-1]"
   ]
  },
  {
   "cell_type": "code",
   "execution_count": 98,
   "id": "a47b1545",
   "metadata": {},
   "outputs": [
    {
     "data": {
      "text/plain": [
       "('Green', 'Oolong')"
      ]
     },
     "execution_count": 98,
     "metadata": {},
     "output_type": "execute_result"
    }
   ],
   "source": [
    "tea_types[1:\n",
    "]"
   ]
  },
  {
   "cell_type": "code",
   "execution_count": 99,
   "id": "eb12064b",
   "metadata": {},
   "outputs": [
    {
     "ename": "TypeError",
     "evalue": "'tuple' object does not support item assignment",
     "output_type": "error",
     "traceback": [
      "\u001B[0;31m---------------------------------------------------------------------------\u001B[0m",
      "\u001B[0;31mTypeError\u001B[0m                                 Traceback (most recent call last)",
      "Cell \u001B[0;32mIn[99], line 1\u001B[0m\n\u001B[0;32m----> 1\u001B[0m tea_types[\u001B[38;5;241m0\u001B[39m] \u001B[38;5;241m=\u001B[39m \u001B[38;5;124m\"\u001B[39m\u001B[38;5;124mLemon\u001B[39m\u001B[38;5;124m\"\u001B[39m\n",
      "\u001B[0;31mTypeError\u001B[0m: 'tuple' object does not support item assignment"
     ]
    }
   ],
   "source": [
    "tea_types[0] = \"Lemon\""
   ]
  },
  {
   "cell_type": "code",
   "execution_count": 100,
   "id": "671cfd8b",
   "metadata": {},
   "outputs": [
    {
     "data": {
      "text/plain": [
       "3"
      ]
     },
     "execution_count": 100,
     "metadata": {},
     "output_type": "execute_result"
    }
   ],
   "source": [
    "len(tea_types)"
   ]
  },
  {
   "cell_type": "code",
   "execution_count": 101,
   "id": "ab26d93c",
   "metadata": {},
   "outputs": [],
   "source": "more_tea = (\"Herbal\", \"Earl Grey\")"
  },
  {
   "cell_type": "code",
   "execution_count": 102,
   "id": "41299eec",
   "metadata": {},
   "outputs": [],
   "source": [
    "all_tea = more_tea + tea_types"
   ]
  },
  {
   "cell_type": "code",
   "execution_count": 103,
   "id": "6a0e83b9",
   "metadata": {},
   "outputs": [
    {
     "name": "stdout",
     "output_type": "stream",
     "text": [
      "('Herbal', 'Earl Grey', 'Black', 'Green', 'Oolong')\n"
     ]
    }
   ],
   "source": [
    "print(all_tea)"
   ]
  },
  {
   "cell_type": "code",
   "execution_count": 104,
   "id": "b18ca402",
   "metadata": {},
   "outputs": [
    {
     "name": "stdout",
     "output_type": "stream",
     "text": [
      "I have green tea\n"
     ]
    }
   ],
   "source": [
    "if \"Green\" in all_tea:\n",
    "    print(\"I have green tea\")"
   ]
  },
  {
   "cell_type": "code",
   "id": "9647f56a",
   "metadata": {
    "ExecuteTime": {
     "end_time": "2024-08-21T02:55:34.452384Z",
     "start_time": "2024-08-21T02:55:34.444022Z"
    }
   },
   "source": [
    "more_tea = (\"Herbal\", \"Earl_grey\", \"Herbal\")\n",
    "more_tea.count(\"Herbal\")"
   ],
   "outputs": [
    {
     "data": {
      "text/plain": [
       "2"
      ]
     },
     "execution_count": 2,
     "metadata": {},
     "output_type": "execute_result"
    }
   ],
   "execution_count": 2
  },
  {
   "cell_type": "code",
   "execution_count": 106,
   "id": "d323f443",
   "metadata": {},
   "outputs": [
    {
     "data": {
      "text/plain": [
       "('Black', 'Green', 'Oolong')"
      ]
     },
     "execution_count": 106,
     "metadata": {},
     "output_type": "execute_result"
    }
   ],
   "source": [
    "tea_types"
   ]
  },
  {
   "cell_type": "code",
   "execution_count": 107,
   "id": "0f5e039f",
   "metadata": {},
   "outputs": [],
   "source": "(black, green, Oolong) = tea_types"
  },
  {
   "cell_type": "code",
   "execution_count": 108,
   "id": "3cf6d3ba",
   "metadata": {},
   "outputs": [
    {
     "data": {
      "text/plain": [
       "'Black'"
      ]
     },
     "execution_count": 108,
     "metadata": {},
     "output_type": "execute_result"
    }
   ],
   "source": [
    "black"
   ]
  },
  {
   "cell_type": "code",
   "execution_count": 109,
   "id": "fd724fbb",
   "metadata": {},
   "outputs": [
    {
     "data": {
      "text/plain": [
       "'Green'"
      ]
     },
     "execution_count": 109,
     "metadata": {},
     "output_type": "execute_result"
    }
   ],
   "source": [
    "green"
   ]
  },
  {
   "cell_type": "code",
   "execution_count": 110,
   "id": "83d78e18",
   "metadata": {},
   "outputs": [
    {
     "data": {
      "text/plain": [
       "'Oolong'"
      ]
     },
     "execution_count": 110,
     "metadata": {},
     "output_type": "execute_result"
    }
   ],
   "source": [
    "Oolong"
   ]
  },
  {
   "cell_type": "code",
   "id": "73504504",
   "metadata": {
    "ExecuteTime": {
     "end_time": "2024-08-21T02:55:26.952099Z",
     "start_time": "2024-08-21T02:55:26.468630Z"
    }
   },
   "source": [
    "type(tea_types)"
   ],
   "outputs": [
    {
     "ename": "NameError",
     "evalue": "name 'tea_types' is not defined",
     "output_type": "error",
     "traceback": [
      "\u001B[0;31m---------------------------------------------------------------------------\u001B[0m",
      "\u001B[0;31mNameError\u001B[0m                                 Traceback (most recent call last)",
      "Cell \u001B[0;32mIn[1], line 1\u001B[0m\n\u001B[0;32m----> 1\u001B[0m \u001B[38;5;28mtype\u001B[39m(\u001B[43mtea_types\u001B[49m)\n",
      "\u001B[0;31mNameError\u001B[0m: name 'tea_types' is not defined"
     ]
    }
   ],
   "execution_count": 1
  },
  {
   "cell_type": "code",
   "execution_count": null,
   "id": "89717881",
   "metadata": {},
   "outputs": [],
   "source": "(\"\", (1, 2, 3), \"\")"
  },
  {
   "metadata": {
    "ExecuteTime": {
     "end_time": "2024-08-21T02:55:46.392193Z",
     "start_time": "2024-08-21T02:55:46.388401Z"
    }
   },
   "cell_type": "code",
   "source": "more_tea",
   "id": "2da81aad0adebb22",
   "outputs": [
    {
     "data": {
      "text/plain": [
       "('Herbal', 'Earl_grey', 'Herbal')"
      ]
     },
     "execution_count": 3,
     "metadata": {},
     "output_type": "execute_result"
    }
   ],
   "execution_count": 3
  },
  {
   "metadata": {},
   "cell_type": "code",
   "outputs": [],
   "execution_count": null,
   "source": "",
   "id": "17df9dfa9b5f477"
  },
  {
   "metadata": {},
   "cell_type": "markdown",
   "source": "******File system and Loops *********",
   "id": "3b25b899ad1e1e1c"
  },
  {
   "metadata": {
    "ExecuteTime": {
     "end_time": "2024-08-21T03:05:20.950884Z",
     "start_time": "2024-08-21T03:05:20.935219Z"
    }
   },
   "cell_type": "code",
   "source": "import Time",
   "id": "ca7a8f49a0291f21",
   "outputs": [
    {
     "ename": "ModuleNotFoundError",
     "evalue": "No module named 'Time'",
     "output_type": "error",
     "traceback": [
      "\u001B[0;31m---------------------------------------------------------------------------\u001B[0m",
      "\u001B[0;31mModuleNotFoundError\u001B[0m                       Traceback (most recent call last)",
      "Cell \u001B[0;32mIn[4], line 1\u001B[0m\n\u001B[0;32m----> 1\u001B[0m \u001B[38;5;28;01mimport\u001B[39;00m \u001B[38;5;21;01mTime\u001B[39;00m\n",
      "\u001B[0;31mModuleNotFoundError\u001B[0m: No module named 'Time'"
     ]
    }
   ],
   "execution_count": 4
  },
  {
   "metadata": {},
   "cell_type": "code",
   "outputs": [],
   "execution_count": null,
   "source": "",
   "id": "c581c627bd113e91"
  }
 ],
 "metadata": {
  "kernelspec": {
   "display_name": "Python 3",
   "language": "python",
   "name": "python3"
  },
  "language_info": {
   "codemirror_mode": {
    "name": "ipython",
    "version": 3
   },
   "file_extension": ".py",
   "mimetype": "text/x-python",
   "name": "python",
   "nbconvert_exporter": "python",
   "pygments_lexer": "ipython3",
   "version": "3.9.16"
  }
 },
 "nbformat": 4,
 "nbformat_minor": 5
}
